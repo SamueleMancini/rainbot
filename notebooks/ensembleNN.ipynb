{
 "cells": [
  {
   "cell_type": "markdown",
   "id": "e11b3ed4",
   "metadata": {},
   "source": [
    "## Imports"
   ]
  },
  {
   "cell_type": "code",
   "execution_count": 1,
   "id": "9fc7a98f",
   "metadata": {},
   "outputs": [
    {
     "name": "stderr",
     "output_type": "stream",
     "text": [
      "/opt/anaconda3/envs/cv_env/lib/python3.10/site-packages/tqdm/auto.py:21: TqdmWarning: IProgress not found. Please update jupyter and ipywidgets. See https://ipywidgets.readthedocs.io/en/stable/user_install.html\n",
      "  from .autonotebook import tqdm as notebook_tqdm\n"
     ]
    }
   ],
   "source": [
    "import sys, os\n",
    "from PIL import Image\n",
    "import torch\n",
    "import torch.nn as nn\n",
    "import torch.optim as optim\n",
    "from torchvision import transforms, models\n",
    "softmax = torch.nn.Softmax(dim=1)\n",
    "from torch.utils.data import Dataset, DataLoader\n",
    "import matplotlib.pyplot as plt\n",
    "import numpy as np\n",
    "from sklearn.metrics import (\n",
    "    top_k_accuracy_score,\n",
    "    classification_report,\n",
    "    confusion_matrix\n",
    ")\n",
    "import random\n",
    "from pathlib import Path\n",
    "from tqdm import tqdm\n",
    "from transformers import SegformerFeatureExtractor, SegformerForSemanticSegmentation, SwinForImageClassification, SwinConfig\n",
    "from typing import List, Tuple\n",
    "import torch.nn.functional as F"
   ]
  },
  {
   "cell_type": "code",
   "execution_count": 2,
   "id": "40c2f4d3",
   "metadata": {},
   "outputs": [],
   "source": [
    "# Compute absolute path to the `src/` folder\n",
    "PROJECT_ROOT = os.path.abspath(os.path.join(os.getcwd(), \"..\"))\n",
    "SRC_PATH     = os.path.join(PROJECT_ROOT, \"src\")\n",
    "\n",
    "if SRC_PATH not in sys.path:\n",
    "    sys.path.insert(0, SRC_PATH)\n",
    "\n",
    "from utils import get_dataloaders, load_model, evaluate_model, print_metrics, plot_confusion_matrix, show_sample_predictions, plot_random_image_with_label_and_prediction, load_vit_model"
   ]
  },
  {
   "cell_type": "code",
   "execution_count": 3,
   "id": "354266dc",
   "metadata": {},
   "outputs": [],
   "source": [
    "transform = transforms.Compose([\n",
    "    transforms.Resize((224, 224)),\n",
    "    transforms.ToTensor(),\n",
    "    transforms.Normalize(mean=[0.485,0.456,0.406], std=[0.229,0.224,0.225])\n",
    "])"
   ]
  },
  {
   "cell_type": "code",
   "execution_count": 4,
   "id": "9facaa56",
   "metadata": {},
   "outputs": [
    {
     "name": "stdout",
     "output_type": "stream",
     "text": [
      "Using device: mps\n"
     ]
    }
   ],
   "source": [
    "if torch.backends.mps.is_available():\n",
    "    device = torch.device(\"mps\")\n",
    "else:\n",
    "    device = torch.device(\"cpu\")\n",
    "\n",
    "print(\"Using device:\", device)"
   ]
  },
  {
   "cell_type": "code",
   "execution_count": 5,
   "id": "a7a9101f",
   "metadata": {},
   "outputs": [],
   "source": [
    "COUNTRIES = ['Albania', 'Andorra', 'Australia', 'Austria', 'Bangladesh', 'Belgium', 'Bhutan', 'Bolivia', 'Brazil', 'Bulgaria', 'Cambodia', 'Canada', 'Chile', 'Colombia', 'Croatia', 'Czechia', 'Denmark', 'Dominican Republic', 'Ecuador', 'Estonia', 'Eswatini', 'Finland', 'France', 'Germany', 'Greece', 'Guatemala', 'Hungary', 'Iceland', 'Indonesia', 'Ireland', 'Israel', 'Italy', 'Japan', 'Jordan', 'Latvia', 'Lesotho', 'Lithuania', 'Luxembourg', 'Malaysia', 'Mexico', 'Montenegro', 'Netherlands', 'New Zealand', 'North Macedonia', 'Norway', 'Palestine', 'Peru', 'Poland', 'Portugal', 'Romania', 'Russia', 'Serbia', 'Singapore', 'Slovakia', 'Slovenia', 'South Africa', 'South Korea', 'Spain', 'Sweden', 'Switzerland', 'Taiwan', 'Thailand', 'Turkey', 'United Arab Emirates', 'United Kingdom', 'United States']\n",
    "num_classes = len(COUNTRIES)\n",
    "project_root   = Path().resolve().parent"
   ]
  },
  {
   "cell_type": "markdown",
   "id": "3aaa8101",
   "metadata": {},
   "source": [
    "## Data"
   ]
  },
  {
   "cell_type": "code",
   "execution_count": 6,
   "id": "b6f1be0f",
   "metadata": {},
   "outputs": [],
   "source": [
    "train_root = project_root/ \"data\" / \"final_datasets\" / \"train\"\n",
    "train_loader = get_dataloaders(train_root, batch_size=32)\n",
    "\n",
    "val_root = project_root/ \"data\" / \"final_datasets\" / \"val\"\n",
    "val_loader = get_dataloaders(val_root, batch_size=32)\n",
    "\n",
    "test_root = project_root/ \"data\" / \"final_datasets\" / \"test\"\n",
    "test_loader = get_dataloaders(test_root, batch_size=32)"
   ]
  },
  {
   "cell_type": "markdown",
   "id": "f4dd170b",
   "metadata": {},
   "source": [
    "## Load models"
   ]
  },
  {
   "cell_type": "code",
   "execution_count": 7,
   "id": "22dbaed6",
   "metadata": {},
   "outputs": [
    {
     "name": "stderr",
     "output_type": "stream",
     "text": [
      "/Users/michelangelonardi/Desktop/Università/Master/Bocconi Master/Year 1/Semester2/Computer Vision & Image processing/Final - project/rainbot/src/utils.py:323: FutureWarning: You are using `torch.load` with `weights_only=False` (the current default value), which uses the default pickle module implicitly. It is possible to construct malicious pickle data which will execute arbitrary code during unpickling (See https://github.com/pytorch/pytorch/blob/main/SECURITY.md#untrusted-models for more details). In a future release, the default value for `weights_only` will be flipped to `True`. This limits the functions that could be executed during unpickling. Arbitrary objects will no longer be allowed to be loaded via this mode unless they are explicitly allowlisted by the user via `torch.serialization.add_safe_globals`. We recommend you start setting `weights_only=True` for any use case where you don't have full control of the loaded file. Please open an issue on GitHub for any issues related to this experimental feature.\n",
      "  model.load_state_dict(torch.load(model_path, map_location=device))\n"
     ]
    }
   ],
   "source": [
    "base_model = load_model(model_path=project_root / \"models\" / \"resnet_finetuned_new\" / \"main.pth\", device=device)\n",
    "road = load_model(model_path=project_root / \"models\" / \"resnet_finetuned_road_new\" / \"main.pth\", device=device)\n",
    "terrain = load_model(model_path=project_root / \"models\" / \"resnet_finetuned_terrain_new\" / \"main.pth\", device=device)\n",
    "vegetation = load_model(model_path=project_root / \"models\" / \"resnet_finetuned_vegetation_new\" / \"main.pth\", device=device)"
   ]
  },
  {
   "cell_type": "code",
   "execution_count": 8,
   "id": "1b54ea3d",
   "metadata": {},
   "outputs": [],
   "source": [
    "base_vit = load_vit_model(model_path=project_root / \"models\" / \"swin_b_finetuned\" / \"swin_b_finetuned\", device=device)\n",
    "vit_road = load_vit_model(model_path=project_root / \"models\" / \"swin_b_finetuned\" / \"swin_b_finetuned_road\", device=device)\n",
    "vit_terrain = load_vit_model(model_path=project_root / \"models\" / \"swin_b_finetuned\" / \"swin_b_finetuned_terrain\", device=device)\n",
    "vit_vegetation = load_vit_model(model_path=project_root / \"models\" / \"swin_b_finetuned\" / \"swin_b_finetuned_vegetation\", device=device)"
   ]
  },
  {
   "cell_type": "code",
   "execution_count": 9,
   "id": "009f8ba0",
   "metadata": {},
   "outputs": [
    {
     "name": "stderr",
     "output_type": "stream",
     "text": [
      "/opt/anaconda3/envs/cv_env/lib/python3.10/site-packages/huggingface_hub/file_download.py:943: FutureWarning: `resume_download` is deprecated and will be removed in version 1.0.0. Downloads always resume when possible. If you want to force a new download, use `force_download=True`.\n",
      "  warnings.warn(\n",
      "/opt/anaconda3/envs/cv_env/lib/python3.10/site-packages/transformers/models/segformer/feature_extraction_segformer.py:28: FutureWarning: The class SegformerFeatureExtractor is deprecated and will be removed in version 5 of Transformers. Please use SegformerImageProcessor instead.\n",
      "  warnings.warn(\n",
      "/opt/anaconda3/envs/cv_env/lib/python3.10/site-packages/transformers/models/segformer/image_processing_segformer.py:103: FutureWarning: The `reduce_labels` parameter is deprecated and will be removed in a future version. Please use `do_reduce_labels` instead.\n",
      "  warnings.warn(\n"
     ]
    }
   ],
   "source": [
    "MODEL_NAME = \"nvidia/segformer-b0-finetuned-cityscapes-768-768\"\n",
    "\n",
    "feature_extractor = SegformerFeatureExtractor.from_pretrained(MODEL_NAME)\n",
    "seg_model = SegformerForSemanticSegmentation.from_pretrained(MODEL_NAME).eval()"
   ]
  },
  {
   "cell_type": "code",
   "execution_count": 10,
   "id": "cbe71900",
   "metadata": {},
   "outputs": [],
   "source": [
    "CITYSCAPES_LABELS = {\n",
    "    0: 'road', \n",
    "    8: 'vegetation',  9: 'terrain'\n",
    "}\n",
    "\n",
    "TARGET_CLASSES = {'road','terrain','vegetation'}"
   ]
  },
  {
   "cell_type": "markdown",
   "id": "4321b482",
   "metadata": {},
   "source": [
    "## Ensemble"
   ]
  },
  {
   "cell_type": "markdown",
   "id": "3fb3158f",
   "metadata": {},
   "source": [
    "### Utils"
   ]
  },
  {
   "cell_type": "code",
   "execution_count": 11,
   "id": "31008c7d",
   "metadata": {},
   "outputs": [],
   "source": [
    "# Utility to fetch softmax probs from a pretrained submodel\n",
    "def get_probs(model, img_tensor, device):\n",
    "    model.eval()\n",
    "    with torch.no_grad():\n",
    "        out = model(img_tensor.to(device))\n",
    "        probs = nn.functional.softmax(out, dim=1).cpu().squeeze(0).numpy()\n",
    "    return probs"
   ]
  },
  {
   "cell_type": "code",
   "execution_count": 12,
   "id": "6defef13",
   "metadata": {},
   "outputs": [],
   "source": [
    "def cache_submodel_outputs(base_ds, submodels, device, cache_dir):\n",
    "    \"\"\"\n",
    "    Runs each submodel once over base_ds and writes:\n",
    "      - feats.npy: shape (N, num_models * num_classes)\n",
    "      - labels.npy: shape (N,)\n",
    "    under cache_dir.\n",
    "    \"\"\"\n",
    "    N = len(base_ds)\n",
    "    num_classes = submodels['base'].fc.out_features\n",
    "    num_models  = len(submodels)\n",
    "    feats  = np.zeros((N, num_models * num_classes), dtype=np.float32)\n",
    "    labels = np.zeros(N, dtype=np.int64)\n",
    "\n",
    "    for i in range(N):\n",
    "        print(f\"Printing {i}/{N}\")\n",
    "        img, lbl = base_ds[i]                 # load and transform image\n",
    "        labels[i] = lbl\n",
    "        x = img.unsqueeze(0).to(device)\n",
    "\n",
    "        vecs = []\n",
    "        for name, m in submodels.items():\n",
    "            m.eval()\n",
    "            with torch.no_grad():\n",
    "                out = m(x)\n",
    "                p   = softmax(out).cpu().numpy().squeeze(0)\n",
    "            vecs.append(p)\n",
    "        feats[i] = np.concatenate(vecs)\n",
    "\n",
    "    # Persist to disk once, not every epoch\n",
    "    np.save(cache_dir / \"feats.npy\", feats)\n",
    "    np.save(cache_dir / \"labels.npy\", labels)"
   ]
  },
  {
   "cell_type": "code",
   "execution_count": 13,
   "id": "b9bed1ca",
   "metadata": {},
   "outputs": [],
   "source": [
    "class CachedEnsembleDataset(Dataset):\n",
    "    def __init__(self, cache_dir):\n",
    "        \"\"\"\n",
    "        Loads feats.npy and labels.npy once into memory.\n",
    "        \"\"\"\n",
    "        self.feats  = np.load(cache_dir / \"feats.npy\")\n",
    "        self.labels = np.load(cache_dir / \"labels.npy\")\n",
    "\n",
    "    def __len__(self):\n",
    "        return len(self.labels)\n",
    "\n",
    "    def __getitem__(self, i):\n",
    "        # returns (feature_vector, label) as torch tensors\n",
    "        return torch.from_numpy(self.feats[i]), int(self.labels[i])"
   ]
  },
  {
   "cell_type": "code",
   "execution_count": 39,
   "id": "7147eb21",
   "metadata": {},
   "outputs": [],
   "source": [
    "# Ensemble Network: one hidden layer\n",
    "class EnsembleNet(nn.Module):\n",
    "    def __init__(self, in_dim, hid_dim, num_classes):\n",
    "        super().__init__()\n",
    "        self.net = nn.Sequential(\n",
    "            nn.Linear(in_dim, hid_dim),\n",
    "            nn.ReLU(),\n",
    "            nn.Linear(hid_dim, num_classes)\n",
    "        )\n",
    "\n",
    "    def forward(self, x):\n",
    "        return self.net(x)"
   ]
  },
  {
   "cell_type": "code",
   "execution_count": 15,
   "id": "3f015579",
   "metadata": {},
   "outputs": [],
   "source": [
    "# Ensemble Network: no hidden layer\n",
    "class EnsembleNet0(nn.Module):\n",
    "    def __init__(self, in_dim, num_classes):\n",
    "        super().__init__()\n",
    "        self.net = nn.Sequential(\n",
    "            nn.Linear(in_dim, num_classes)\n",
    "        )\n",
    "\n",
    "    def forward(self, x):\n",
    "        return self.net(x)"
   ]
  },
  {
   "cell_type": "code",
   "execution_count": 16,
   "id": "60c1da9d",
   "metadata": {},
   "outputs": [],
   "source": [
    "def train_epoch(model, loader, loss_fn, optimizer, device, epoch, log_every=5):\n",
    "    \"\"\"\n",
    "    Runs one epoch of training, printing updates every `log_every` batches.\n",
    "\n",
    "    Args:\n",
    "        model       (nn.Module):      the network to train\n",
    "        loader      (DataLoader):     training data loader\n",
    "        loss_fn     (callable):       loss function\n",
    "        optimizer   (torch.optim.Optimizer)\n",
    "        device      (torch.device)\n",
    "        epoch       (int):            current epoch number (for prints)\n",
    "        log_every   (int):            how many batches between prints\n",
    "\n",
    "    Returns:\n",
    "        avg_loss (float), avg_acc (float)\n",
    "    \"\"\"\n",
    "    model.train()\n",
    "    running_loss = 0.0\n",
    "    running_correct = 0\n",
    "    total_samples = 0\n",
    "\n",
    "    for batch_idx, (imgs, labels) in enumerate(loader, start=1):\n",
    "        imgs, labels = imgs.to(device), labels.to(device)\n",
    "        optimizer.zero_grad()\n",
    "        outputs = model(imgs)\n",
    "        loss = loss_fn(outputs, labels)\n",
    "        loss.backward()\n",
    "        optimizer.step()\n",
    "\n",
    "        # Metrics\n",
    "        preds = outputs.argmax(dim=1)\n",
    "        batch_correct = (preds == labels).sum().item()\n",
    "        batch_size = imgs.size(0)\n",
    "\n",
    "        running_loss    += loss.item() * batch_size\n",
    "        running_correct += batch_correct\n",
    "        total_samples   += batch_size\n",
    "\n",
    "\n",
    "    avg_loss = running_loss / total_samples\n",
    "    avg_acc  = running_correct / total_samples\n",
    "    return avg_loss, avg_acc\n"
   ]
  },
  {
   "cell_type": "code",
   "execution_count": 17,
   "id": "63513867",
   "metadata": {},
   "outputs": [],
   "source": [
    "def eval_epoch(model, loader, loss_fn, device):\n",
    "    model.eval()\n",
    "    total_loss = total_correct = 0\n",
    "    with torch.no_grad():\n",
    "        for X, y in loader:\n",
    "            X, y = X.to(device), y.to(device)\n",
    "            logits = model(X)\n",
    "            loss   = loss_fn(logits, y)\n",
    "            preds  = logits.argmax(dim=1)\n",
    "            total_correct += (preds==y).sum().item()\n",
    "            total_loss    += loss.item() * X.size(0)\n",
    "    return total_loss/len(loader.dataset), total_correct/len(loader.dataset)"
   ]
  },
  {
   "cell_type": "code",
   "execution_count": 18,
   "id": "50a1ecd1",
   "metadata": {},
   "outputs": [],
   "source": [
    "def train_with_early_stopping(\n",
    "    model, train_loader, dev_loader,\n",
    "    loss_fn, optimizer, device,\n",
    "    ckpt_path,\n",
    "    max_epochs=100, patience=5\n",
    "):\n",
    "    best_val_loss = float('inf')\n",
    "    patience_ctr  = 0\n",
    "\n",
    "    for epoch in range(1, max_epochs+1):\n",
    "        # 1) Train epoch\n",
    "        tr_loss, tr_acc = train_epoch(\n",
    "            model, train_loader, loss_fn, optimizer, device, epoch\n",
    "        )\n",
    "\n",
    "        # 2) Eval on dev\n",
    "        vl_loss, vl_acc = eval_epoch(model, dev_loader, loss_fn, device)\n",
    "        print(f\"Epoch {epoch}: train {tr_loss:.3f}/{tr_acc:.3f} | \"\n",
    "              f\"val   {vl_loss:.3f}/{vl_acc:.3f}\")\n",
    "\n",
    "        # 3) Check for improvement\n",
    "        if vl_loss < best_val_loss:\n",
    "            best_val_loss = vl_loss\n",
    "            patience_ctr  = 0\n",
    "            torch.save(model.state_dict(), ckpt_path)\n",
    "            print(\"  ↳ New best val loss; checkpoint saved.\")\n",
    "        else:\n",
    "            patience_ctr += 1\n",
    "            print(f\"  ↳ No improvement. Patience {patience_ctr}/{patience}.\")\n",
    "            if patience_ctr >= patience:\n",
    "                print(\"Early stopping triggered.\")\n",
    "                break\n",
    "\n",
    "    # 4) Load best model before returning\n",
    "    model.load_state_dict(torch.load(ckpt_path))\n",
    "    return model"
   ]
  },
  {
   "cell_type": "markdown",
   "id": "e5db043f",
   "metadata": {},
   "source": [
    "### Build cache (to speed up training)"
   ]
  },
  {
   "cell_type": "code",
   "execution_count": 19,
   "id": "f4303784",
   "metadata": {},
   "outputs": [],
   "source": [
    "submodels = {\n",
    "    'base':     base_model,\n",
    "    'road':     road,\n",
    "    'terrain':  terrain,\n",
    "    'vegetation': vegetation,\n",
    "    'base_vit':    base_vit,\n",
    "    'vit_road':    vit_road,\n",
    "    'vit_terrain': vit_terrain,\n",
    "    'vit_vegetation': vit_vegetation\n",
    "}"
   ]
  },
  {
   "cell_type": "code",
   "execution_count": 20,
   "id": "438f895e",
   "metadata": {},
   "outputs": [],
   "source": [
    "train_cache_dir = project_root / \"cache\" / \"cache_train\"\n",
    "dev_cache_dir = project_root / \"cache\" / \"cache_dev\"\n",
    "test_cache_dir = project_root / \"cache\" / \"cache_test\""
   ]
  },
  {
   "cell_type": "code",
   "execution_count": null,
   "id": "6e9710e7",
   "metadata": {},
   "outputs": [],
   "source": [
    "# Train split caching\n",
    "train_cache_dir.mkdir(exist_ok=True)\n",
    "cache_submodel_outputs(train_loader.dataset, submodels, device, train_cache_dir)\n",
    "\n",
    "# Dev split caching\n",
    "dev_cache_dir.mkdir(exist_ok=True)\n",
    "cache_submodel_outputs(val_loader.dataset, submodels, device, dev_cache_dir)\n",
    "\n",
    "# Test split caching\n",
    "test_cache_dir.mkdir(exist_ok=True)\n",
    "cache_submodel_outputs(test_loader.dataset, submodels, device, test_cache_dir)"
   ]
  },
  {
   "cell_type": "markdown",
   "id": "32db194e",
   "metadata": {},
   "source": [
    "### Training"
   ]
  },
  {
   "cell_type": "code",
   "execution_count": 21,
   "id": "d2e02e31",
   "metadata": {},
   "outputs": [],
   "source": [
    "train_cached_ds = CachedEnsembleDataset(train_cache_dir)\n",
    "train_cached_loader = DataLoader(train_cached_ds, batch_size=32, shuffle=True, num_workers=0)\n",
    "\n",
    "dev_cached_ds = CachedEnsembleDataset(dev_cache_dir)\n",
    "dev_cached_loader = DataLoader(dev_cached_ds, batch_size=32, shuffle=False, num_workers=0)\n",
    "\n",
    "test_cached_ds = CachedEnsembleDataset(test_cache_dir)\n",
    "test_cached_loader = DataLoader(test_cached_ds, batch_size=32, shuffle=False, num_workers=0)"
   ]
  },
  {
   "cell_type": "markdown",
   "id": "ac82b9f0",
   "metadata": {},
   "source": [
    "#### Linear model"
   ]
  },
  {
   "cell_type": "code",
   "execution_count": 36,
   "id": "b7ab90a5",
   "metadata": {},
   "outputs": [],
   "source": [
    "# Instantiate linear_model\n",
    "epochs=100\n",
    "lr=1e-3\n",
    "\n",
    "in_dim = num_classes * len(submodels)\n",
    "linear_model = EnsembleNet0(in_dim, num_classes).to(device)\n",
    "loss_fn = nn.CrossEntropyLoss()\n",
    "opt     = optim.Adam(linear_model.parameters(), lr=lr)\n",
    "\n",
    "best_val_loss = float('inf')\n",
    "ckpt_path = project_root / \"models\" / \"ensemble\" / \"linear.pth\""
   ]
  },
  {
   "cell_type": "code",
   "execution_count": 37,
   "id": "0c62572c",
   "metadata": {},
   "outputs": [
    {
     "name": "stdout",
     "output_type": "stream",
     "text": [
      "Epoch 1: train 3.528/0.649 | val   3.147/0.602\n",
      "  ↳ New best val loss; checkpoint saved.\n",
      "Epoch 2: train 2.461/0.823 | val   2.461/0.606\n",
      "  ↳ New best val loss; checkpoint saved.\n",
      "Epoch 3: train 1.749/0.843 | val   2.050/0.612\n",
      "  ↳ New best val loss; checkpoint saved.\n",
      "Epoch 4: train 1.312/0.852 | val   1.814/0.616\n",
      "  ↳ New best val loss; checkpoint saved.\n",
      "Epoch 5: train 1.047/0.860 | val   1.675/0.621\n",
      "  ↳ New best val loss; checkpoint saved.\n",
      "Epoch 6: train 0.879/0.865 | val   1.589/0.621\n",
      "  ↳ New best val loss; checkpoint saved.\n",
      "Epoch 7: train 0.765/0.869 | val   1.534/0.627\n",
      "  ↳ New best val loss; checkpoint saved.\n",
      "Epoch 8: train 0.685/0.873 | val   1.499/0.624\n",
      "  ↳ New best val loss; checkpoint saved.\n",
      "Epoch 9: train 0.626/0.877 | val   1.475/0.627\n",
      "  ↳ New best val loss; checkpoint saved.\n",
      "Epoch 10: train 0.580/0.879 | val   1.459/0.622\n",
      "  ↳ New best val loss; checkpoint saved.\n",
      "Epoch 11: train 0.544/0.883 | val   1.450/0.625\n",
      "  ↳ New best val loss; checkpoint saved.\n",
      "Epoch 12: train 0.515/0.885 | val   1.444/0.628\n",
      "  ↳ New best val loss; checkpoint saved.\n",
      "Epoch 13: train 0.492/0.887 | val   1.441/0.626\n",
      "  ↳ New best val loss; checkpoint saved.\n",
      "Epoch 14: train 0.472/0.889 | val   1.441/0.629\n",
      "  ↳ No improvement. Patience 1/5.\n",
      "Epoch 15: train 0.455/0.891 | val   1.443/0.630\n",
      "  ↳ No improvement. Patience 2/5.\n",
      "Epoch 16: train 0.441/0.893 | val   1.445/0.627\n",
      "  ↳ No improvement. Patience 3/5.\n",
      "Epoch 17: train 0.428/0.894 | val   1.448/0.628\n",
      "  ↳ No improvement. Patience 4/5.\n",
      "Epoch 18: train 0.417/0.895 | val   1.453/0.629\n",
      "  ↳ No improvement. Patience 5/5.\n",
      "Early stopping triggered.\n"
     ]
    },
    {
     "name": "stderr",
     "output_type": "stream",
     "text": [
      "/var/folders/d5/5853p9zd6pvbjb8vz92bhmnc0000gn/T/ipykernel_48716/589457112.py:35: FutureWarning: You are using `torch.load` with `weights_only=False` (the current default value), which uses the default pickle module implicitly. It is possible to construct malicious pickle data which will execute arbitrary code during unpickling (See https://github.com/pytorch/pytorch/blob/main/SECURITY.md#untrusted-models for more details). In a future release, the default value for `weights_only` will be flipped to `True`. This limits the functions that could be executed during unpickling. Arbitrary objects will no longer be allowed to be loaded via this mode unless they are explicitly allowlisted by the user via `torch.serialization.add_safe_globals`. We recommend you start setting `weights_only=True` for any use case where you don't have full control of the loaded file. Please open an issue on GitHub for any issues related to this experimental feature.\n",
      "  model.load_state_dict(torch.load(ckpt_path))\n"
     ]
    }
   ],
   "source": [
    "linear_model = train_with_early_stopping(\n",
    "    linear_model,\n",
    "    train_cached_loader,\n",
    "    dev_cached_loader,\n",
    "    loss_fn,\n",
    "    opt,\n",
    "    device,\n",
    "    ckpt_path,\n",
    "    max_epochs=100,\n",
    "    patience=5\n",
    ")"
   ]
  },
  {
   "cell_type": "code",
   "execution_count": 38,
   "id": "9185c219",
   "metadata": {},
   "outputs": [
    {
     "name": "stdout",
     "output_type": "stream",
     "text": [
      "Test   Loss: 1.3891 | Test Acc: 0.6404\n"
     ]
    }
   ],
   "source": [
    "linear_model.eval()\n",
    "test_loss, test_acc = eval_epoch(linear_model, test_cached_loader, loss_fn, device)\n",
    "\n",
    "print(f\"Test   Loss: {test_loss:.4f} | Test Acc: {test_acc:.4f}\")\n"
   ]
  },
  {
   "cell_type": "markdown",
   "id": "ece95066",
   "metadata": {},
   "source": [
    "#### Non-Linear model"
   ]
  },
  {
   "cell_type": "code",
   "execution_count": 43,
   "id": "946f8305",
   "metadata": {},
   "outputs": [],
   "source": [
    "# Instantiate linear_model\n",
    "hid_dim=128\n",
    "epochs=100\n",
    "lr=1e-3\n",
    "\n",
    "in_dim = num_classes * len(submodels)\n",
    "model = EnsembleNet(in_dim, hid_dim, num_classes).to(device)\n",
    "loss_fn = nn.CrossEntropyLoss()\n",
    "opt     = optim.Adam(model.parameters(), lr=lr)\n",
    "\n",
    "best_val_loss = float('inf')\n",
    "ckpt_path = project_root / \"models\" / \"ensemble\" / \"main.pth\""
   ]
  },
  {
   "cell_type": "code",
   "execution_count": 44,
   "id": "087967fc",
   "metadata": {},
   "outputs": [
    {
     "name": "stdout",
     "output_type": "stream",
     "text": [
      "Epoch 1: train 1.519/0.782 | val   1.526/0.612\n",
      "  ↳ New best val loss; checkpoint saved.\n",
      "Epoch 2: train 0.481/0.881 | val   1.579/0.616\n",
      "  ↳ No improvement. Patience 1/5.\n",
      "Epoch 3: train 0.427/0.889 | val   1.625/0.616\n",
      "  ↳ No improvement. Patience 2/5.\n",
      "Epoch 4: train 0.400/0.895 | val   1.653/0.615\n",
      "  ↳ No improvement. Patience 3/5.\n",
      "Epoch 5: train 0.381/0.898 | val   1.677/0.618\n",
      "  ↳ No improvement. Patience 4/5.\n",
      "Epoch 6: train 0.364/0.903 | val   1.714/0.613\n",
      "  ↳ No improvement. Patience 5/5.\n",
      "Early stopping triggered.\n"
     ]
    },
    {
     "name": "stderr",
     "output_type": "stream",
     "text": [
      "/var/folders/d5/5853p9zd6pvbjb8vz92bhmnc0000gn/T/ipykernel_48716/589457112.py:35: FutureWarning: You are using `torch.load` with `weights_only=False` (the current default value), which uses the default pickle module implicitly. It is possible to construct malicious pickle data which will execute arbitrary code during unpickling (See https://github.com/pytorch/pytorch/blob/main/SECURITY.md#untrusted-models for more details). In a future release, the default value for `weights_only` will be flipped to `True`. This limits the functions that could be executed during unpickling. Arbitrary objects will no longer be allowed to be loaded via this mode unless they are explicitly allowlisted by the user via `torch.serialization.add_safe_globals`. We recommend you start setting `weights_only=True` for any use case where you don't have full control of the loaded file. Please open an issue on GitHub for any issues related to this experimental feature.\n",
      "  model.load_state_dict(torch.load(ckpt_path))\n"
     ]
    }
   ],
   "source": [
    "model = train_with_early_stopping(\n",
    "    model,\n",
    "    train_cached_loader,\n",
    "    dev_cached_loader,\n",
    "    loss_fn,\n",
    "    opt,\n",
    "    device,\n",
    "    ckpt_path,\n",
    "    max_epochs=100,\n",
    "    patience=5\n",
    ")"
   ]
  },
  {
   "cell_type": "code",
   "execution_count": 45,
   "id": "437dc74b",
   "metadata": {},
   "outputs": [
    {
     "name": "stdout",
     "output_type": "stream",
     "text": [
      "Test   Loss: 1.4552 | Test Acc: 0.6323\n"
     ]
    }
   ],
   "source": [
    "model.eval()\n",
    "test_loss, test_acc = eval_epoch(model, test_cached_loader, loss_fn, device)\n",
    "\n",
    "print(f\"Test   Loss: {test_loss:.4f} | Test Acc: {test_acc:.4f}\")"
   ]
  },
  {
   "cell_type": "markdown",
   "id": "5bd06d48",
   "metadata": {},
   "source": [
    "### Weights visualization"
   ]
  },
  {
   "cell_type": "code",
   "execution_count": 46,
   "id": "809cab50",
   "metadata": {},
   "outputs": [],
   "source": [
    "def inspect_ensemble_weights(model, submodel_names, COUNTRIES):\n",
    "\n",
    "    W1 = model.net[0].weight.data.cpu().numpy()  \n",
    "    num_classes = len(COUNTRIES)\n",
    "\n",
    "    block_norms = []\n",
    "    for i, name in enumerate(submodel_names):\n",
    "        start = i * num_classes\n",
    "        end   = (i+1) * num_classes\n",
    "        block = W1[:, start:end]          \n",
    "        norm  = np.linalg.norm(block)      \n",
    "        block_norms.append((name, norm))\n",
    "\n",
    "    print(\"First‐layer L2 norms per submodel block:\")\n",
    "    for name, norm in block_norms:\n",
    "        print(f\"  {name:12s}: {norm:.2f}\")\n"
   ]
  },
  {
   "cell_type": "code",
   "execution_count": 47,
   "id": "5632f113",
   "metadata": {},
   "outputs": [
    {
     "name": "stdout",
     "output_type": "stream",
     "text": [
      "First‐layer L2 norms per submodel block:\n",
      "  res_base    : 164.62\n",
      "  res_road    : 68.41\n",
      "  res_terrain : 38.97\n",
      "  res_veg     : 50.85\n",
      "  vit_base    : 95.04\n",
      "  vit_road    : 22.06\n",
      "  vit_terrain : 16.11\n",
      "  vit_vegetation: 45.79\n"
     ]
    }
   ],
   "source": [
    "submodel_names = [\n",
    "    'res_base', 'res_road', 'res_terrain', 'res_veg',\n",
    "    'vit_base','vit_road','vit_terrain','vit_vegetation'\n",
    "]\n",
    "\n",
    "inspect_ensemble_weights(linear_model, submodel_names, COUNTRIES)\n"
   ]
  },
  {
   "cell_type": "code",
   "execution_count": 48,
   "id": "a3276063",
   "metadata": {},
   "outputs": [
    {
     "name": "stdout",
     "output_type": "stream",
     "text": [
      "First‐layer L2 norms per submodel block:\n",
      "  res_base    : 23.93\n",
      "  res_road    : 9.78\n",
      "  res_terrain : 4.71\n",
      "  res_veg     : 8.25\n",
      "  vit_base    : 12.00\n",
      "  vit_road    : 8.90\n",
      "  vit_terrain : 9.08\n",
      "  vit_vegetation: 8.98\n"
     ]
    }
   ],
   "source": [
    "inspect_ensemble_weights(model, submodel_names, COUNTRIES)\n"
   ]
  },
  {
   "cell_type": "code",
   "execution_count": 66,
   "id": "c5d9b12a",
   "metadata": {},
   "outputs": [
    {
     "name": "stdout",
     "output_type": "stream",
     "text": [
      "First‐layer L2 norms per submodel block:\n",
      "  base: 171.35\n",
      "  road: 69.65\n",
      "  terrain: 40.79\n",
      "  veg: 51.57\n"
     ]
    }
   ],
   "source": [
    "inspect_ensemble_weights(model, COUNTRIES)"
   ]
  }
 ],
 "metadata": {
  "kernelspec": {
   "display_name": "cv_env",
   "language": "python",
   "name": "python3"
  },
  "language_info": {
   "codemirror_mode": {
    "name": "ipython",
    "version": 3
   },
   "file_extension": ".py",
   "mimetype": "text/x-python",
   "name": "python",
   "nbconvert_exporter": "python",
   "pygments_lexer": "ipython3",
   "version": "3.10.16"
  }
 },
 "nbformat": 4,
 "nbformat_minor": 5
}
