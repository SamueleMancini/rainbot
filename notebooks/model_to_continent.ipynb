{
 "cells": [
  {
   "cell_type": "code",
   "execution_count": 10,
   "metadata": {},
   "outputs": [],
   "source": [
    "import sys, os\n",
    "import torch\n",
    "import torch.nn as nn\n",
    "from pathlib import Path\n",
    "import numpy as np"
   ]
  },
  {
   "cell_type": "code",
   "execution_count": 3,
   "metadata": {},
   "outputs": [],
   "source": [
    "# Compute absolute path to the `src/` folder\n",
    "PROJECT_ROOT = os.path.abspath(os.path.join(os.getcwd(), \"..\"))\n",
    "SRC_PATH     = os.path.join(PROJECT_ROOT, \"src\")\n",
    "\n",
    "if SRC_PATH not in sys.path:\n",
    "    sys.path.insert(0, SRC_PATH)\n",
    "\n",
    "from utils import get_dataloaders, load_model, evaluate_model, print_metrics, plot_confusion_matrix, show_sample_predictions"
   ]
  },
  {
   "cell_type": "code",
   "execution_count": 5,
   "metadata": {},
   "outputs": [
    {
     "name": "stdout",
     "output_type": "stream",
     "text": [
      "Using device: cuda\n"
     ]
    }
   ],
   "source": [
    "if torch.backends.mps.is_available():\n",
    "    device = torch.device(\"mps\")\n",
    "elif torch.cuda.is_available():\n",
    "    device = torch.device(\"cuda\")\n",
    "else:\n",
    "    device = torch.device(\"cpu\")\n",
    "\n",
    "print(\"Using device:\", device)"
   ]
  },
  {
   "cell_type": "code",
   "execution_count": 6,
   "metadata": {},
   "outputs": [],
   "source": [
    "COUNTRIES = [\"Albania\",\"Andorra\",\"Argentina\",\"Australia\",\"Austria\",\"Bangladesh\",\"Belgium\",\"Bhutan\",\"Bolivia\",\"Botswana\",\"Brazil\",\"Bulgaria\",\"Cambodia\",\"Canada\",\"Chile\",\"Colombia\",\"Croatia\",\"Czechia\",\"Denmark\",\"Dominican Republic\",\"Ecuador\",\"Estonia\",\"Eswatini\",\"Finland\",\"France\",\"Germany\",\"Ghana\",\"Greece\",\"Greenland\",\"Guatemala\",\"Hungary\",\"Iceland\",\"Indonesia\",\"Ireland\",\"Israel\",\"Italy\",\"Japan\",\"Jordan\",\"Kenya\",\"Kyrgyzstan\",\"Latvia\",\"Lesotho\",\"Lithuania\",\"Luxembourg\",\"Malaysia\",\"Mexico\",\"Mongolia\",\"Montenegro\",\"Netherlands\",\"New Zealand\",\"Nigeria\",\"North Macedonia\",\"Norway\",\"Palestine\",\"Peru\",\"Philippines\",\"Poland\",\"Portugal\",\"Romania\",\"Russia\",\"Senegal\",\"Serbia\",\"Singapore\",\"Slovakia\",\"Slovenia\",\"South Africa\",\"South Korea\",\"Spain\",\"Sri Lanka\",\"Sweden\",\"Switzerland\",\"Taiwan\",\"Thailand\",\"Turkey\",\"Ukraine\",\"United Arab Emirates\",\"United Kingdom\",\"United States\",\"Uruguay\"]\n",
    "num_classes = len(COUNTRIES)\n",
    "project_root   = Path().resolve().parent"
   ]
  },
  {
   "cell_type": "markdown",
   "metadata": {},
   "source": [
    "### Data"
   ]
  },
  {
   "cell_type": "code",
   "execution_count": 7,
   "metadata": {},
   "outputs": [],
   "source": [
    "test_root  = project_root/ \"datasets\" / \"segmented\" / \"road\" / \"final_datasets\" / \"test\"\n",
    "test_loader = get_dataloaders(test_root, batch_size=32)"
   ]
  },
  {
   "cell_type": "markdown",
   "metadata": {},
   "source": [
    "### Load model"
   ]
  },
  {
   "cell_type": "code",
   "execution_count": 8,
   "metadata": {},
   "outputs": [
    {
     "name": "stderr",
     "output_type": "stream",
     "text": [
      "/home/andreafabbricatore/rainbot/src/utils.py:224: FutureWarning: You are using `torch.load` with `weights_only=False` (the current default value), which uses the default pickle module implicitly. It is possible to construct malicious pickle data which will execute arbitrary code during unpickling (See https://github.com/pytorch/pytorch/blob/main/SECURITY.md#untrusted-models for more details). In a future release, the default value for `weights_only` will be flipped to `True`. This limits the functions that could be executed during unpickling. Arbitrary objects will no longer be allowed to be loaded via this mode unless they are explicitly allowlisted by the user via `torch.serialization.add_safe_globals`. We recommend you start setting `weights_only=True` for any use case where you don't have full control of the loaded file. Please open an issue on GitHub for any issues related to this experimental feature.\n",
      "  model.load_state_dict(torch.load(model_path, map_location=device))\n"
     ]
    }
   ],
   "source": [
    "model = load_model(model_path=project_root / \"models\" / \"resnet_finetuned_road\" / \"main.pth\", device=device)"
   ]
  },
  {
   "cell_type": "markdown",
   "metadata": {},
   "source": [
    "### Evaluation"
   ]
  },
  {
   "cell_type": "code",
   "execution_count": 9,
   "metadata": {},
   "outputs": [],
   "source": [
    "criterion = nn.CrossEntropyLoss()"
   ]
  },
  {
   "cell_type": "code",
   "execution_count": 13,
   "metadata": {},
   "outputs": [],
   "source": [
    "country_to_continent = {\n",
    "    \"Albania\": \"Europe\",\n",
    "    \"Andorra\": \"Europe\",\n",
    "    \"Argentina\": \"South America\",\n",
    "    \"Australia\": \"Oceania\",\n",
    "    \"Austria\": \"Europe\",\n",
    "    \"Bangladesh\": \"Asia\",\n",
    "    \"Belgium\": \"Europe\",\n",
    "    \"Bhutan\": \"Asia\",\n",
    "    \"Bolivia\": \"South America\",\n",
    "    \"Botswana\": \"Africa\",\n",
    "    \"Brazil\": \"South America\",\n",
    "    \"Bulgaria\": \"Europe\",\n",
    "    \"Cambodia\": \"Asia\",\n",
    "    \"Canada\": \"North America\",\n",
    "    \"Chile\": \"South America\",\n",
    "    \"Colombia\": \"South America\",\n",
    "    \"Croatia\": \"Europe\",\n",
    "    \"Czechia\": \"Europe\",\n",
    "    \"Denmark\": \"Europe\",\n",
    "    \"Dominican Republic\": \"North America\",\n",
    "    \"Ecuador\": \"South America\",\n",
    "    \"Estonia\": \"Europe\",\n",
    "    \"Eswatini\": \"Africa\",\n",
    "    \"Finland\": \"Europe\",\n",
    "    \"France\": \"Europe\",\n",
    "    \"Germany\": \"Europe\",\n",
    "    \"Ghana\": \"Africa\",\n",
    "    \"Greece\": \"Europe\",\n",
    "    \"Greenland\": \"North America\",\n",
    "    \"Guatemala\": \"North America\",\n",
    "    \"Hungary\": \"Europe\",\n",
    "    \"Iceland\": \"Europe\",\n",
    "    \"Indonesia\": \"Asia\",\n",
    "    \"Ireland\": \"Europe\",\n",
    "    \"Israel\": \"Asia\",\n",
    "    \"Italy\": \"Europe\",\n",
    "    \"Japan\": \"Asia\",\n",
    "    \"Jordan\": \"Asia\",\n",
    "    \"Kenya\": \"Africa\",\n",
    "    \"Kyrgyzstan\": \"Asia\",\n",
    "    \"Latvia\": \"Europe\",\n",
    "    \"Lesotho\": \"Africa\",\n",
    "    \"Lithuania\": \"Europe\",\n",
    "    \"Luxembourg\": \"Europe\",\n",
    "    \"Malaysia\": \"Asia\",\n",
    "    \"Mexico\": \"North America\",\n",
    "    \"Mongolia\": \"Asia\",\n",
    "    \"Montenegro\": \"Europe\",\n",
    "    \"Netherlands\": \"Europe\",\n",
    "    \"New Zealand\": \"Oceania\",\n",
    "    \"Nigeria\": \"Africa\",\n",
    "    \"North Macedonia\": \"Europe\",\n",
    "    \"Norway\": \"Europe\",\n",
    "    \"Palestine\": \"Asia\",\n",
    "    \"Peru\": \"South America\",\n",
    "    \"Philippines\": \"Asia\",\n",
    "    \"Poland\": \"Europe\",\n",
    "    \"Portugal\": \"Europe\",\n",
    "    \"Romania\": \"Europe\",\n",
    "    \"Russia\": \"Europe\",\n",
    "    \"Senegal\": \"Africa\",\n",
    "    \"Serbia\": \"Europe\",\n",
    "    \"Singapore\": \"Asia\",\n",
    "    \"Slovakia\": \"Europe\",\n",
    "    \"Slovenia\": \"Europe\",\n",
    "    \"South Africa\": \"Africa\",\n",
    "    \"South Korea\": \"Asia\",\n",
    "    \"Spain\": \"Europe\",\n",
    "    \"Sri Lanka\": \"Asia\",\n",
    "    \"Sweden\": \"Europe\",\n",
    "    \"Switzerland\": \"Europe\",\n",
    "    \"Taiwan\": \"Asia\",\n",
    "    \"Thailand\": \"Asia\",\n",
    "    \"Turkey\": \"Asia\",\n",
    "    \"Ukraine\": \"Europe\",\n",
    "    \"United Arab Emirates\": \"Asia\",\n",
    "    \"United Kingdom\": \"Europe\",\n",
    "    \"United States\": \"North America\",\n",
    "    \"Uruguay\": \"South America\"\n",
    "}\n"
   ]
  },
  {
   "cell_type": "code",
   "execution_count": 16,
   "metadata": {},
   "outputs": [
    {
     "name": "stdout",
     "output_type": "stream",
     "text": [
      "\n",
      "Continent Classification Results (based on most frequent continent in top 5 predictions):\n",
      "Continent Accuracy: 46.48%\n"
     ]
    }
   ],
   "source": [
    "avg_loss, top1_acc, all_targets, all_preds, all_probs = evaluate_model(model, test_loader, criterion, device)\n",
    "\n",
    "# Get top 5 predictions for each image\n",
    "top5_indices = np.argsort(all_probs, axis=1)[:, -3:]  # Get indices of top 5 probabilities\n",
    "top5_countries = [[COUNTRIES[idx] for idx in row] for row in top5_indices]\n",
    "top5_continents = [[country_to_continent[country] for country in row] for row in top5_countries]\n",
    "\n",
    "# Get most frequent continent from top 5 predictions\n",
    "predicted_continents = []\n",
    "for continents in top5_continents:\n",
    "    # Count occurrences of each continent\n",
    "    continent_counts = {}\n",
    "    for continent in continents:\n",
    "        continent_counts[continent] = continent_counts.get(continent, 0) + 1\n",
    "    # Get continent with highest count\n",
    "    most_frequent = max(continent_counts.items(), key=lambda x: x[1])[0]\n",
    "    predicted_continents.append(most_frequent)\n",
    "\n",
    "# Get true continents\n",
    "true_countries = [COUNTRIES[idx] for idx in all_targets]\n",
    "true_continents = [country_to_continent[country] for country in true_countries]\n",
    "\n",
    "# Calculate continent accuracy\n",
    "correct_continent = sum(1 for pred, true in zip(predicted_continents, true_continents) if pred == true)\n",
    "continent_accuracy = correct_continent / len(true_continents)\n",
    "\n",
    "print(f\"\\nContinent Classification Results (based on most frequent continent in top 5 predictions):\")\n",
    "print(f\"Continent Accuracy: {continent_accuracy:.2%}\")"
   ]
  },
  {
   "cell_type": "code",
   "execution_count": null,
   "metadata": {},
   "outputs": [
    {
     "name": "stdout",
     "output_type": "stream",
     "text": [
      "Top-3 Accuracy: 0.4175\n",
      "Top-5 Accuracy: 0.5063\n",
      "\n",
      "Classification Report:\n",
      "\n",
      "                      precision    recall  f1-score   support\n",
      "\n",
      "             Albania       0.24      0.27      0.25        45\n",
      "             Andorra       0.23      0.48      0.31        44\n",
      "           Argentina       0.14      0.07      0.09        45\n",
      "           Australia       0.12      0.27      0.17        44\n",
      "             Austria       0.36      0.38      0.37        45\n",
      "          Bangladesh       0.10      0.07      0.08        43\n",
      "             Belgium       0.09      0.02      0.04        43\n",
      "              Bhutan       0.31      0.26      0.29        42\n",
      "             Bolivia       0.28      0.29      0.28        45\n",
      "            Botswana       0.42      0.29      0.34        45\n",
      "              Brazil       0.08      0.11      0.09        45\n",
      "            Bulgaria       0.18      0.07      0.10        45\n",
      "            Cambodia       0.36      0.22      0.27        41\n",
      "              Canada       0.22      0.04      0.07        45\n",
      "               Chile       0.00      0.00      0.00        41\n",
      "            Colombia       0.13      0.09      0.11        44\n",
      "             Croatia       0.00      0.00      0.00        44\n",
      "             Czechia       0.00      0.00      0.00        44\n",
      "             Denmark       0.16      0.16      0.16        44\n",
      "  Dominican Republic       0.52      0.80      0.63        45\n",
      "             Ecuador       0.24      0.40      0.30        45\n",
      "             Estonia       0.17      0.20      0.19        44\n",
      "            Eswatini       0.27      0.21      0.24        38\n",
      "             Finland       0.29      0.32      0.30        44\n",
      "              France       0.09      0.04      0.06        45\n",
      "             Germany       0.25      0.62      0.36        45\n",
      "               Ghana       0.45      0.29      0.35        45\n",
      "              Greece       0.12      0.11      0.12        45\n",
      "           Greenland       0.47      0.87      0.61        45\n",
      "           Guatemala       0.41      0.76      0.54        45\n",
      "             Hungary       0.29      0.05      0.08        44\n",
      "             Iceland       0.21      0.48      0.29        44\n",
      "           Indonesia       0.00      0.00      0.00        44\n",
      "             Ireland       0.30      0.17      0.22        42\n",
      "              Israel       0.17      0.26      0.21        43\n",
      "               Italy       0.00      0.00      0.00        45\n",
      "               Japan       0.09      0.27      0.14        45\n",
      "              Jordan       0.54      0.64      0.59        45\n",
      "               Kenya       0.27      0.16      0.20        45\n",
      "          Kyrgyzstan       0.75      0.67      0.71        45\n",
      "              Latvia       0.40      0.05      0.08        44\n",
      "             Lesotho       0.33      0.56      0.41        45\n",
      "           Lithuania       0.25      0.05      0.08        44\n",
      "          Luxembourg       0.70      0.43      0.54        44\n",
      "            Malaysia       0.00      0.00      0.00        43\n",
      "              Mexico       0.07      0.07      0.07        44\n",
      "            Mongolia       0.36      0.20      0.26        45\n",
      "          Montenegro       0.60      0.27      0.37        45\n",
      "         Netherlands       0.08      0.02      0.04        44\n",
      "         New Zealand       0.29      0.44      0.35        45\n",
      "             Nigeria       0.19      0.16      0.17        45\n",
      "     North Macedonia       0.32      0.44      0.37        45\n",
      "              Norway       0.33      0.04      0.08        45\n",
      "           Palestine       0.65      0.91      0.76        45\n",
      "                Peru       0.29      0.09      0.14        45\n",
      "         Philippines       0.22      0.30      0.25        43\n",
      "              Poland       0.15      0.07      0.09        44\n",
      "            Portugal       0.00      0.00      0.00        44\n",
      "             Romania       0.00      0.00      0.00        42\n",
      "              Russia       0.27      0.09      0.13        45\n",
      "             Senegal       0.62      0.44      0.52        45\n",
      "              Serbia       0.20      0.09      0.12        44\n",
      "           Singapore       0.09      0.09      0.09        45\n",
      "            Slovakia       0.03      0.02      0.02        42\n",
      "            Slovenia       0.10      0.07      0.08        43\n",
      "        South Africa       0.20      0.48      0.29        44\n",
      "         South Korea       0.25      0.31      0.27        45\n",
      "               Spain       0.00      0.00      0.00        45\n",
      "           Sri Lanka       0.45      0.64      0.53        45\n",
      "              Sweden       0.22      0.16      0.18        44\n",
      "         Switzerland       0.13      0.18      0.15        44\n",
      "              Taiwan       0.08      0.66      0.14        44\n",
      "            Thailand       0.33      0.18      0.23        45\n",
      "              Turkey       0.24      0.25      0.25        44\n",
      "             Ukraine       0.15      0.09      0.11        44\n",
      "United Arab Emirates       0.40      0.27      0.32        44\n",
      "      United Kingdom       0.30      0.40      0.34        45\n",
      "       United States       0.31      0.20      0.24        45\n",
      "             Uruguay       0.29      0.56      0.38        45\n",
      "\n",
      "            accuracy                           0.25      3490\n",
      "           macro avg       0.24      0.25      0.22      3490\n",
      "        weighted avg       0.24      0.25      0.22      3490\n",
      "\n"
     ]
    }
   ],
   "source": [
    "print_metrics(all_targets, all_preds, all_probs, COUNTRIES)"
   ]
  }
 ],
 "metadata": {
  "kernelspec": {
   "display_name": "Python 3",
   "language": "python",
   "name": "python3"
  },
  "language_info": {
   "codemirror_mode": {
    "name": "ipython",
    "version": 3
   },
   "file_extension": ".py",
   "mimetype": "text/x-python",
   "name": "python",
   "nbconvert_exporter": "python",
   "pygments_lexer": "ipython3",
   "version": "3.10.12"
  }
 },
 "nbformat": 4,
 "nbformat_minor": 2
}
