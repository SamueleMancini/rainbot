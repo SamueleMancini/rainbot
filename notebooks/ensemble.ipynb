{
 "cells": [
  {
   "cell_type": "code",
   "execution_count": 19,
   "id": "4a4d420e",
   "metadata": {},
   "outputs": [],
   "source": [
    "import sys, os\n",
    "from PIL import Image\n",
    "import torch\n",
    "import torch.nn as nn\n",
    "import torch.optim as optim\n",
    "from torchvision import transforms, models\n",
    "softmax = torch.nn.Softmax(dim=1)\n",
    "from torch.utils.data import Dataset, DataLoader\n",
    "import matplotlib.pyplot as plt\n",
    "import numpy as np\n",
    "from sklearn.metrics import (\n",
    "    top_k_accuracy_score,\n",
    "    classification_report,\n",
    "    confusion_matrix\n",
    ")\n",
    "import random\n",
    "from pathlib import Path\n",
    "from tqdm import tqdm\n",
    "from transformers import SegformerFeatureExtractor, SegformerForSemanticSegmentation"
   ]
  },
  {
   "cell_type": "code",
   "execution_count": 72,
   "id": "edf20fb5",
   "metadata": {},
   "outputs": [],
   "source": [
    "# Compute absolute path to the `src/` folder\n",
    "PROJECT_ROOT = os.path.abspath(os.path.join(os.getcwd(), \"..\"))\n",
    "SRC_PATH     = os.path.join(PROJECT_ROOT, \"src\")\n",
    "\n",
    "if SRC_PATH not in sys.path:\n",
    "    sys.path.insert(0, SRC_PATH)\n",
    "\n",
    "from utils import get_dataloaders, load_model, evaluate_model, print_metrics, plot_confusion_matrix, show_sample_predictions, plot_random_image_with_label_and_prediction"
   ]
  },
  {
   "cell_type": "code",
   "execution_count": 14,
   "id": "dd32d916",
   "metadata": {},
   "outputs": [],
   "source": [
    "transform = transforms.Compose([\n",
    "    transforms.Resize((224, 224)),\n",
    "    transforms.ToTensor(),\n",
    "    transforms.Normalize(mean=[0.485,0.456,0.406], std=[0.229,0.224,0.225])\n",
    "])"
   ]
  },
  {
   "cell_type": "code",
   "execution_count": 9,
   "id": "a7178167",
   "metadata": {},
   "outputs": [
    {
     "name": "stdout",
     "output_type": "stream",
     "text": [
      "Using device: mps\n"
     ]
    }
   ],
   "source": [
    "if torch.backends.mps.is_available():\n",
    "    device = torch.device(\"mps\")\n",
    "else:\n",
    "    device = torch.device(\"cpu\")\n",
    "\n",
    "print(\"Using device:\", device)"
   ]
  },
  {
   "cell_type": "code",
   "execution_count": 10,
   "id": "3e8351fe",
   "metadata": {},
   "outputs": [],
   "source": [
    "COUNTRIES = [\"Albania\",\"Andorra\",\"Argentina\",\"Australia\",\"Austria\",\"Bangladesh\",\"Belgium\",\"Bhutan\",\"Bolivia\",\"Botswana\",\"Brazil\",\"Bulgaria\",\"Cambodia\",\"Canada\",\"Chile\",\"Colombia\",\"Croatia\",\"Czechia\",\"Denmark\",\"Dominican Republic\",\"Ecuador\",\"Estonia\",\"Eswatini\",\"Finland\",\"France\",\"Germany\",\"Ghana\",\"Greece\",\"Greenland\",\"Guatemala\",\"Hungary\",\"Iceland\",\"Indonesia\",\"Ireland\",\"Israel\",\"Italy\",\"Japan\",\"Jordan\",\"Kenya\",\"Kyrgyzstan\",\"Latvia\",\"Lesotho\",\"Lithuania\",\"Luxembourg\",\"Malaysia\",\"Mexico\",\"Mongolia\",\"Montenegro\",\"Netherlands\",\"New Zealand\",\"Nigeria\",\"North Macedonia\",\"Norway\",\"Palestine\",\"Peru\",\"Philippines\",\"Poland\",\"Portugal\",\"Romania\",\"Russia\",\"Senegal\",\"Serbia\",\"Singapore\",\"Slovakia\",\"Slovenia\",\"South Africa\",\"South Korea\",\"Spain\",\"Sri Lanka\",\"Sweden\",\"Switzerland\",\"Taiwan\",\"Thailand\",\"Turkey\",\"Ukraine\",\"United Arab Emirates\",\"United Kingdom\",\"United States\",\"Uruguay\"]\n",
    "num_classes = len(COUNTRIES)\n",
    "project_root   = Path().resolve().parent"
   ]
  },
  {
   "cell_type": "markdown",
   "id": "b6609db8",
   "metadata": {},
   "source": [
    "### Data"
   ]
  },
  {
   "cell_type": "code",
   "execution_count": 11,
   "id": "2d5f6c13",
   "metadata": {},
   "outputs": [],
   "source": [
    "test_root = project_root/ \"data\" / \"processed_data\" / \"medium_dataset\" / \"test\"\n",
    "test_loader = get_dataloaders(test_root, batch_size=32)"
   ]
  },
  {
   "cell_type": "code",
   "execution_count": 12,
   "id": "fc42f94f",
   "metadata": {},
   "outputs": [
    {
     "data": {
      "text/plain": [
       "<torch.utils.data.dataloader.DataLoader at 0x33ade0040>"
      ]
     },
     "execution_count": 12,
     "metadata": {},
     "output_type": "execute_result"
    }
   ],
   "source": [
    "get_dataloaders(test_root, batch_size=32)"
   ]
  },
  {
   "cell_type": "markdown",
   "id": "f8e9f3a7",
   "metadata": {},
   "source": [
    "### Load model"
   ]
  },
  {
   "cell_type": "code",
   "execution_count": 73,
   "id": "4b0a29fc",
   "metadata": {},
   "outputs": [
    {
     "name": "stderr",
     "output_type": "stream",
     "text": [
      "/Users/michelangelonardi/Desktop/Università/Master/Bocconi Master/Year 1/Semester2/Computer Vision & Image processing/Final - project/rainbot/src/utils.py:225: FutureWarning: You are using `torch.load` with `weights_only=False` (the current default value), which uses the default pickle module implicitly. It is possible to construct malicious pickle data which will execute arbitrary code during unpickling (See https://github.com/pytorch/pytorch/blob/main/SECURITY.md#untrusted-models for more details). In a future release, the default value for `weights_only` will be flipped to `True`. This limits the functions that could be executed during unpickling. Arbitrary objects will no longer be allowed to be loaded via this mode unless they are explicitly allowlisted by the user via `torch.serialization.add_safe_globals`. We recommend you start setting `weights_only=True` for any use case where you don't have full control of the loaded file. Please open an issue on GitHub for any issues related to this experimental feature.\n",
      "  model.load_state_dict(torch.load(model_path, map_location=device))\n"
     ]
    }
   ],
   "source": [
    "model = load_model(model_path=project_root / \"models\" / \"resnet_finetuned\" / \"main.pth\", device=device)"
   ]
  },
  {
   "cell_type": "markdown",
   "id": "337467a2",
   "metadata": {},
   "source": [
    "### Get base model prediction probs"
   ]
  },
  {
   "cell_type": "code",
   "execution_count": null,
   "id": "caecfef1",
   "metadata": {},
   "outputs": [],
   "source": [
    "def get_prob(true_lbl, probs_i, class_names, n=5):\n",
    "    topk     = probs_i.argsort()[::-1][:3]\n",
    "    class_names = np.array(class_names)\n",
    "    topk_str = \", \".join(f\"{class_names[k]} ({probs_i[k]:.2f})\" for k in topk)\n",
    "    print(f\"True: {true_lbl:20s}  ↔  Pred Top-3: {topk_str}\")"
   ]
  },
  {
   "cell_type": "code",
   "execution_count": null,
   "id": "4b3c0f7e",
   "metadata": {},
   "outputs": [
    {
     "name": "stdout",
     "output_type": "stream",
     "text": [
      "True: South Africa          ↔  Pred Top-3: United States (0.81), United Kingdom (0.08), New Zealand (0.06)\n"
     ]
    }
   ],
   "source": [
    "# get random image \n",
    "all_countries = [d for d in test_root.iterdir() if d.is_dir()]\n",
    "country = random.choice(all_countries).name\n",
    "img_files = list((test_root / country).glob(\"*.jpg\"))\n",
    "img_path = random.choice(img_files)\n",
    "\n",
    "img = Image.open(img_path).convert(\"RGB\")\n",
    "\n",
    "# Preprocess and predict\n",
    "input_tensor = transform(img).unsqueeze(0).to(device)  # add batch dimension\n",
    "with torch.no_grad():\n",
    "    outputs = model(input_tensor)\n",
    "    pred_idx = outputs.argmax(dim=1).item()\n",
    "    pred_label = COUNTRIES[pred_idx]\n",
    "\n",
    "probs = softmax(outputs).cpu().numpy()\n",
    "\n",
    "get_prob(country, np.squeeze(probs), COUNTRIES, n=1)"
   ]
  },
  {
   "cell_type": "markdown",
   "id": "7beace09",
   "metadata": {},
   "source": [
    "### Segment (to adjust)"
   ]
  },
  {
   "cell_type": "code",
   "execution_count": 6,
   "id": "fcc55a79",
   "metadata": {},
   "outputs": [],
   "source": [
    "# Cityscapes class mapping\n",
    "CITYSCAPES_ID2LABEL = {\n",
    "    0: 'road', 1: 'sidewalk', 2: 'building', 3: 'wall', 4: 'fence',\n",
    "    5: 'pole', 6: 'traffic_light', 7: 'traffic_sign', 8: 'vegetation', 9: 'terrain',\n",
    "    10: 'sky', 11: 'person', 12: 'rider', 13: 'car', 14: 'truck',\n",
    "    15: 'bus', 16: 'train', 17: 'motorcycle', 18: 'bicycle',\n",
    "}"
   ]
  },
  {
   "cell_type": "code",
   "execution_count": 5,
   "id": "db1fa8c4",
   "metadata": {},
   "outputs": [],
   "source": [
    "segments = {'bicycle', 'building', 'car', 'fence', 'person', 'pole', 'road', 'sidewalk', 'terrain', 'traffic_light', 'traffic_sign', 'vegetation'}"
   ]
  },
  {
   "cell_type": "code",
   "execution_count": null,
   "id": "939c9c32",
   "metadata": {},
   "outputs": [
    {
     "name": "stderr",
     "output_type": "stream",
     "text": [
      "/opt/anaconda3/envs/cv_env/lib/python3.10/site-packages/huggingface_hub/file_download.py:943: FutureWarning: `resume_download` is deprecated and will be removed in version 1.0.0. Downloads always resume when possible. If you want to force a new download, use `force_download=True`.\n",
      "  warnings.warn(\n",
      "/opt/anaconda3/envs/cv_env/lib/python3.10/site-packages/transformers/models/segformer/feature_extraction_segformer.py:28: FutureWarning: The class SegformerFeatureExtractor is deprecated and will be removed in version 5 of Transformers. Please use SegformerImageProcessor instead.\n",
      "  warnings.warn(\n",
      "/opt/anaconda3/envs/cv_env/lib/python3.10/site-packages/transformers/models/segformer/image_processing_segformer.py:103: FutureWarning: The `reduce_labels` parameter is deprecated and will be removed in a future version. Please use `do_reduce_labels` instead.\n",
      "  warnings.warn(\n"
     ]
    }
   ],
   "source": [
    "MODEL_NAME = \"nvidia/segformer-b0-finetuned-cityscapes-768-768\"\n",
    "\n",
    "feature_extractor = SegformerFeatureExtractor.from_pretrained(MODEL_NAME)\n",
    "model = SegformerForSemanticSegmentation.from_pretrained(MODEL_NAME).eval()"
   ]
  },
  {
   "cell_type": "code",
   "execution_count": 7,
   "id": "83399a15",
   "metadata": {},
   "outputs": [],
   "source": [
    "def segment_and_return(image_path):\n",
    "    \"\"\"\n",
    "    Given an image file, run the segmentation model and return a dict\n",
    "    of {class_name: masked_PIL_image} for every class present.\n",
    "    \"\"\"\n",
    "    # 1) Load & preprocess\n",
    "    image = Image.open(image_path).convert(\"RGB\")\n",
    "    image_np = np.array(image)\n",
    "    inputs = feature_extractor(images=image, return_tensors=\"pt\")\n",
    "\n",
    "    # 2) Inference + upsample logits\n",
    "    with torch.no_grad():\n",
    "        outputs = model(**inputs)\n",
    "        logits = outputs.logits              # (1, num_classes, h/4, w/4)\n",
    "        upsampled_logits = torch.nn.functional.interpolate(\n",
    "            logits,\n",
    "            size=image.size[::-1],           # (H, W)\n",
    "            mode=\"bilinear\",\n",
    "            align_corners=False\n",
    "        )\n",
    "        predicted = upsampled_logits.argmax(dim=1)[0].cpu().numpy()  # (H, W)\n",
    "\n",
    "    # 3) Build result dict\n",
    "    results = {}\n",
    "    for class_idx, class_name in segments.items():\n",
    "        mask = (predicted == class_idx).astype(np.uint8)\n",
    "        if mask.any():\n",
    "            # zero out everything except this class\n",
    "            masked_np = image_np.copy()\n",
    "            masked_np[mask == 0] = 0\n",
    "            masked_pil = Image.fromarray(masked_np)\n",
    "            results[class_name] = masked_pil\n",
    "\n",
    "    return results"
   ]
  }
 ],
 "metadata": {
  "kernelspec": {
   "display_name": "cv_env",
   "language": "python",
   "name": "python3"
  },
  "language_info": {
   "codemirror_mode": {
    "name": "ipython",
    "version": 3
   },
   "file_extension": ".py",
   "mimetype": "text/x-python",
   "name": "python",
   "nbconvert_exporter": "python",
   "pygments_lexer": "ipython3",
   "version": "3.10.16"
  }
 },
 "nbformat": 4,
 "nbformat_minor": 5
}
