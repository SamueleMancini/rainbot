{
 "cells": [
  {
   "cell_type": "markdown",
   "metadata": {},
   "source": [
    "# Reorganizing"
   ]
  },
  {
   "cell_type": "code",
   "execution_count": 6,
   "metadata": {},
   "outputs": [],
   "source": [
    "import os\n",
    "import shutil\n",
    "\n",
    "def move_subfolders(src_root: str, target_root: str):\n",
    "    # Ensure target directory exists\n",
    "    os.makedirs(target_root, exist_ok=True)\n",
    "\n",
    "    # Walk through all subdirectories (topdown=False to start from leaves)\n",
    "    for root, dirs, files in os.walk(src_root, topdown=False):\n",
    "        for d in dirs:\n",
    "            src_folder = os.path.join(root, d)\n",
    "            target_folder = os.path.join(target_root, d)\n",
    "\n",
    "            # Make sure the target folder exists\n",
    "            os.makedirs(target_folder, exist_ok=True)\n",
    "\n",
    "            # Move all contents of the src_folder to the target_folder\n",
    "            for item in os.listdir(src_folder):\n",
    "                src_item = os.path.join(src_folder, item)\n",
    "                dst_item = os.path.join(target_folder, item)\n",
    "\n",
    "                if os.path.exists(dst_item):\n",
    "                    print(f\"Skipping {dst_item} (already exists)\")\n",
    "                else:\n",
    "                    shutil.move(src_item, target_folder)\n",
    "\n",
    "            # Remove the now-empty folder\n",
    "            if not os.listdir(src_folder):\n",
    "                os.rmdir(src_folder)\n",
    "\n",
    "# Example usage:\n",
    "move_subfolders('/home/andreafabbricatore/rainbot/datasets/google', '/home/andreafabbricatore/rainbot/datasets/final')\n"
   ]
  },
  {
   "cell_type": "code",
   "execution_count": null,
   "metadata": {},
   "outputs": [],
   "source": []
  }
 ],
 "metadata": {
  "kernelspec": {
   "display_name": "Python 3",
   "language": "python",
   "name": "python3"
  },
  "language_info": {
   "codemirror_mode": {
    "name": "ipython",
    "version": 3
   },
   "file_extension": ".py",
   "mimetype": "text/x-python",
   "name": "python",
   "nbconvert_exporter": "python",
   "pygments_lexer": "ipython3",
   "version": "3.10.12"
  }
 },
 "nbformat": 4,
 "nbformat_minor": 2
}
