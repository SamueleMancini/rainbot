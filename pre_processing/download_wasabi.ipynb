{
 "cells": [
  {
   "cell_type": "code",
   "execution_count": null,
   "metadata": {},
   "outputs": [],
   "source": [
    "import os\n",
    "import boto3\n",
    "from botocore.config import Config\n",
    "\n",
    "# -------- CONFIGURATION --------\n",
    "WASABI_ACCESS_KEY = \"VIH97PD2FNFFMYQAESDR\"\n",
    "WASABI_SECRET_KEY = \"X2UgOtGwJP5DFYnYjSloe9ilVVb89wseGiRKZa9T\"\n",
    "WASABI_REGION = \"eu-east-1\"  # or your region\n",
    "BUCKET_NAME = \"geoguesser-dataset\"\n",
    "DEST_DIR = \"./dataset\"  # Local destination folder\n",
    "# --------------------------------\n",
    "\n",
    "# Create session with Wasabi (S3-compatible)\n",
    "session = boto3.session.Session()\n",
    "\n",
    "s3 = session.client(\n",
    "    service_name='s3',\n",
    "    region_name=WASABI_REGION,\n",
    "    aws_access_key_id=WASABI_ACCESS_KEY,\n",
    "    aws_secret_access_key=WASABI_SECRET_KEY,\n",
    "    endpoint_url=f'https://s3.{WASABI_REGION}.wasabisys.com',  # Wasabi endpoint\n",
    "    config=Config(signature_version='s3v4')\n",
    ")\n",
    "\n",
    "def download_all_files():\n",
    "    paginator = s3.get_paginator('list_objects_v2')\n",
    "    pages = paginator.paginate(Bucket=BUCKET_NAME)\n",
    "\n",
    "    os.makedirs(DEST_DIR, exist_ok=True)\n",
    "\n",
    "    for page in pages:\n",
    "        for obj in page.get('Contents', []):\n",
    "            key = obj['Key']\n",
    "            local_path = os.path.join(DEST_DIR, key)\n",
    "\n",
    "            os.makedirs(os.path.dirname(local_path), exist_ok=True)\n",
    "            print(f\"Downloading: {key} -> {local_path}\")\n",
    "            s3.download_file(BUCKET_NAME, key, local_path)\n"
   ]
  }
 ],
 "metadata": {
  "language_info": {
   "name": "python"
  }
 },
 "nbformat": 4,
 "nbformat_minor": 2
}
