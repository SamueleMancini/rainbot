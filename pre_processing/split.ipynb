{
 "cells": [
  {
   "cell_type": "code",
   "execution_count": 1,
   "metadata": {},
   "outputs": [],
   "source": [
    "from typing import Tuple\n",
    "from PIL import Image\n",
    "\n",
    "def parse_side_by_side(image_path: str, crop_margin: int = 60, crop_size: Tuple[int, int] = (640, 640)) -> Tuple[Image.Image, Image.Image]:\n",
    "    \"\"\"\n",
    "    Processes an image by cropping side artifacts and returns two side-by-side crops of the given size.\n",
    "\n",
    "    Parameters:\n",
    "    - image_path (str): Path to the input image.\n",
    "    - crop_margin (int): Pixels to remove from both left and right sides of the image.\n",
    "    - crop_size (Tuple[int, int]): Size (width, height) of each cropped output image.\n",
    "\n",
    "    Returns:\n",
    "    - Tuple[Image.Image, Image.Image]: Two PIL Image objects, side-by-side crops.\n",
    "    \"\"\"\n",
    "    # Load image\n",
    "    image = Image.open(image_path)\n",
    "\n",
    "    # Remove side artifacts\n",
    "    width, height = image.size\n",
    "    image = image.crop((crop_margin, 0, width - crop_margin, height))\n",
    "\n",
    "    # Define crop size\n",
    "    crop_width, crop_height = crop_size\n",
    "\n",
    "    # Create two side-by-side crops\n",
    "    left_crop = image.crop((0, 0, crop_width, crop_height))\n",
    "    right_crop = image.crop((crop_width, 0, crop_width * 2, crop_height))\n",
    "\n",
    "    return left_crop, right_crop\n"
   ]
  },
  {
   "cell_type": "code",
   "execution_count": 2,
   "metadata": {},
   "outputs": [],
   "source": [
    "def split_by_three(image_path: str) -> Tuple[Image.Image, Image.Image, Image.Image]:\n",
    "    \"\"\"\n",
    "    Splits an image into three equal vertical chunks.\n",
    "\n",
    "    Parameters:\n",
    "    - image_path (str): Path to the input image.\n",
    "\n",
    "    Returns:\n",
    "    - Tuple[Image.Image, Image.Image, Image.Image]: Three PIL Image objects representing the chunks.\n",
    "    \"\"\"\n",
    "    image = Image.open(image_path)\n",
    "    width, height = image.size\n",
    "    chunk_width = width // 3\n",
    "\n",
    "    chunk1 = image.crop((0, 0, chunk_width, height))\n",
    "    chunk2 = image.crop((chunk_width, 0, 2 * chunk_width, height))\n",
    "    chunk3 = image.crop((2 * chunk_width, 0, width, height))\n",
    "\n",
    "    return chunk1, chunk2, chunk3"
   ]
  },
  {
   "cell_type": "code",
   "execution_count": null,
   "metadata": {},
   "outputs": [],
   "source": []
  }
 ],
 "metadata": {
  "kernelspec": {
   "display_name": "Python 3",
   "language": "python",
   "name": "python3"
  },
  "language_info": {
   "codemirror_mode": {
    "name": "ipython",
    "version": 3
   },
   "file_extension": ".py",
   "mimetype": "text/x-python",
   "name": "python",
   "nbconvert_exporter": "python",
   "pygments_lexer": "ipython3",
   "version": "3.12.0"
  }
 },
 "nbformat": 4,
 "nbformat_minor": 2
}
